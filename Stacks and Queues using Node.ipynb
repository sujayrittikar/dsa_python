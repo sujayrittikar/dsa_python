{
 "cells": [
  {
   "cell_type": "code",
   "execution_count": null,
   "metadata": {},
   "outputs": [],
   "source": [
    "class Node:\n",
    "    def __init__(self, val):\n",
    "        self.val = val\n",
    "        self.next = None"
   ]
  },
  {
   "cell_type": "code",
   "execution_count": null,
   "metadata": {},
   "outputs": [],
   "source": [
    "class stack:\n",
    "    def __init__(self):\n",
    "        self.top = None\n",
    "        self.last = None\n",
    "        self.len = 0\n",
    "    def push(self, data):\n",
    "        new = Node(data)\n",
    "        if self.len==0:\n",
    "            self.top = new\n",
    "            self.last = new\n",
    "        else:\n",
    "            self.top.next = new\n",
    "            self.top = new\n",
    "        self.len+=1\n",
    "    def pop(self):\n",
    "        x = self.top.val\n",
    "        k = self.last\n",
    "        if self.top!=self.last:\n",
    "            while k.next!=self.top:\n",
    "                k = k.next\n",
    "            self.top = None\n",
    "            self.top = k\n",
    "        else:\n",
    "            self.top = None\n",
    "            self.last = None\n",
    "        self.len-=1\n",
    "        return x    \n",
    "    def print_val(self):\n",
    "        r = self.last\n",
    "        i = 0\n",
    "        while i<self.len:\n",
    "            print(r.val)\n",
    "            r = r.next\n",
    "            i+=1"
   ]
  },
  {
   "cell_type": "code",
   "execution_count": null,
   "metadata": {},
   "outputs": [],
   "source": [
    "a = stack()"
   ]
  },
  {
   "cell_type": "code",
   "execution_count": null,
   "metadata": {},
   "outputs": [],
   "source": [
    "j = [15, 8, 2, 7, 11, 19, 18]"
   ]
  },
  {
   "cell_type": "code",
   "execution_count": null,
   "metadata": {},
   "outputs": [],
   "source": [
    "for i in j:\n",
    "    a.push(i)"
   ]
  },
  {
   "cell_type": "code",
   "execution_count": null,
   "metadata": {},
   "outputs": [],
   "source": [
    "a.print_val()"
   ]
  },
  {
   "cell_type": "code",
   "execution_count": null,
   "metadata": {},
   "outputs": [],
   "source": [
    "a.pop()"
   ]
  },
  {
   "cell_type": "code",
   "execution_count": null,
   "metadata": {},
   "outputs": [],
   "source": [
    "a.top.val"
   ]
  },
  {
   "cell_type": "code",
   "execution_count": null,
   "metadata": {},
   "outputs": [],
   "source": [
    "a.last.val"
   ]
  },
  {
   "cell_type": "code",
   "execution_count": null,
   "metadata": {},
   "outputs": [],
   "source": [
    "a.top.val"
   ]
  },
  {
   "cell_type": "code",
   "execution_count": null,
   "metadata": {},
   "outputs": [],
   "source": [
    "a.pop()"
   ]
  },
  {
   "cell_type": "code",
   "execution_count": null,
   "metadata": {},
   "outputs": [],
   "source": [
    "a.print_val()"
   ]
  },
  {
   "cell_type": "code",
   "execution_count": null,
   "metadata": {},
   "outputs": [],
   "source": [
    "class queue:\n",
    "    def __init__(self):\n",
    "        self.top = None\n",
    "        self.last = None\n",
    "        self.len = 0\n",
    "    def push(self, data):\n",
    "        new = Node(data)\n",
    "        if self.len==0:\n",
    "            self.top = new\n",
    "            self.last = new\n",
    "        else:\n",
    "            self.top.next = new\n",
    "            self.top = new\n",
    "        self.len+=1\n",
    "    def pop(self):\n",
    "        x = self.last.val\n",
    "        k = self.last\n",
    "        if self.top!=self.last:\n",
    "            k = self.last.next\n",
    "            self.last = None\n",
    "            self.last = k\n",
    "        else:\n",
    "            self.top = None\n",
    "            self.last = None\n",
    "        self.len-=1\n",
    "        return x    \n",
    "    def print_val(self):\n",
    "        r = self.last\n",
    "        i = 0\n",
    "        while i<self.len:\n",
    "            print(r.val)\n",
    "            r = r.next\n",
    "            i+=1"
   ]
  },
  {
   "cell_type": "code",
   "execution_count": null,
   "metadata": {},
   "outputs": [],
   "source": [
    "b = queue()"
   ]
  },
  {
   "cell_type": "code",
   "execution_count": null,
   "metadata": {},
   "outputs": [],
   "source": [
    "for i in j:\n",
    "    b.push(i)"
   ]
  },
  {
   "cell_type": "code",
   "execution_count": null,
   "metadata": {},
   "outputs": [],
   "source": [
    "b.print_val()"
   ]
  },
  {
   "cell_type": "code",
   "execution_count": null,
   "metadata": {},
   "outputs": [],
   "source": [
    "b.pop()"
   ]
  },
  {
   "cell_type": "code",
   "execution_count": null,
   "metadata": {},
   "outputs": [],
   "source": [
    "b.print_val()"
   ]
  },
  {
   "cell_type": "code",
   "execution_count": null,
   "metadata": {},
   "outputs": [],
   "source": [
    "b.last.val"
   ]
  },
  {
   "cell_type": "code",
   "execution_count": null,
   "metadata": {},
   "outputs": [],
   "source": []
  }
 ],
 "metadata": {
  "kernelspec": {
   "display_name": "Python 3",
   "language": "python",
   "name": "python3"
  },
  "language_info": {
   "codemirror_mode": {
    "name": "ipython",
    "version": 3
   },
   "file_extension": ".py",
   "mimetype": "text/x-python",
   "name": "python",
   "nbconvert_exporter": "python",
   "pygments_lexer": "ipython3",
   "version": "3.7.6"
  }
 },
 "nbformat": 4,
 "nbformat_minor": 4
}
