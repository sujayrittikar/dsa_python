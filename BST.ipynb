{
 "cells": [
  {
   "cell_type": "code",
   "execution_count": 1,
   "metadata": {},
   "outputs": [],
   "source": [
    "class Node:\n",
    "    def __init__(self, data):\n",
    "        self.data = data\n",
    "        self.left = None\n",
    "        self.right = None\n",
    "        \n",
    "    def insert(self, data):\n",
    "        if self.data:\n",
    "            if data < self.data:\n",
    "                if self.left is None:\n",
    "                    self.left = Node(data)\n",
    "                else:\n",
    "                    self.left.insert(data)\n",
    "            elif data > self.data:\n",
    "                if self.right is None:\n",
    "                    self.right = Node(data)\n",
    "                else:\n",
    "                    self.right.insert(data)\n",
    "        else:\n",
    "            self.data = data\n",
    "        \n",
    "    def print_tree(self):\n",
    "        if self.left:\n",
    "            self.left.print_tree()\n",
    "        print(self.data)\n",
    "        if self.right:\n",
    "            self.right.print_tree()\n",
    "            \n",
    "    def inorder_traversal(self, root):\n",
    "        res = []\n",
    "        if root:\n",
    "            res = self.inorder_traversal(root.left)\n",
    "            res.append(root.data)\n",
    "            res += self.inorder_traversal(root.right)\n",
    "        return res\n",
    "\n",
    "    def preorder_traversal(self, root):\n",
    "        res = []\n",
    "        if root:\n",
    "            res.append(root.data)\n",
    "            res += self.preorder_traversal(root.left)\n",
    "            res += self.preorder_traversal(root.right)\n",
    "        return res\n",
    "\n",
    "    def postorder_traversal(self, root):\n",
    "        res = []\n",
    "        if root:\n",
    "            res = self.postorder_traversal(root.left)\n",
    "            res += self.postorder_traversal(root.right)\n",
    "            res.append(root.data)\n",
    "        return res\n",
    "    \n",
    "    def search(self, val):\n",
    "        if val < self.data:\n",
    "            if self.left is None:\n",
    "                return \"{} is not present in the Binary Tree\".format(str(val))\n",
    "            return self.left.search(val)\n",
    "        elif val > self.data:\n",
    "            if self.right is None:\n",
    "                return \"{} is not present in the Binary Tree\".format(str(val))\n",
    "            return self.right.search(val)\n",
    "        else:\n",
    "            print(str(self.data) + ' is found')"
   ]
  },
  {
   "cell_type": "code",
   "execution_count": 2,
   "metadata": {},
   "outputs": [],
   "source": [
    "a = Node(5)"
   ]
  },
  {
   "cell_type": "code",
   "execution_count": 3,
   "metadata": {},
   "outputs": [],
   "source": [
    "x = [10, 2, 4, 3, 11, 19]"
   ]
  },
  {
   "cell_type": "code",
   "execution_count": 4,
   "metadata": {},
   "outputs": [],
   "source": [
    "for i in x:\n",
    "    a.insert(i)"
   ]
  },
  {
   "cell_type": "code",
   "execution_count": 5,
   "metadata": {},
   "outputs": [
    {
     "name": "stdout",
     "output_type": "stream",
     "text": [
      "2\n",
      "3\n",
      "4\n",
      "5\n",
      "10\n",
      "11\n",
      "19\n"
     ]
    }
   ],
   "source": [
    "a.print_tree()"
   ]
  },
  {
   "cell_type": "code",
   "execution_count": 6,
   "metadata": {},
   "outputs": [
    {
     "name": "stdout",
     "output_type": "stream",
     "text": [
      "2 is found\n"
     ]
    }
   ],
   "source": [
    "a.search(2)"
   ]
  },
  {
   "cell_type": "code",
   "execution_count": 7,
   "metadata": {},
   "outputs": [
    {
     "name": "stdout",
     "output_type": "stream",
     "text": [
      "11 is found\n"
     ]
    }
   ],
   "source": [
    "a.search(11)"
   ]
  },
  {
   "cell_type": "code",
   "execution_count": 8,
   "metadata": {},
   "outputs": [
    {
     "data": {
      "text/plain": [
       "'20 is not present in the Binary Tree'"
      ]
     },
     "execution_count": 8,
     "metadata": {},
     "output_type": "execute_result"
    }
   ],
   "source": [
    "a.search(20)"
   ]
  },
  {
   "cell_type": "code",
   "execution_count": null,
   "metadata": {},
   "outputs": [],
   "source": []
  }
 ],
 "metadata": {
  "kernelspec": {
   "display_name": "Python 3",
   "language": "python",
   "name": "python3"
  },
  "language_info": {
   "codemirror_mode": {
    "name": "ipython",
    "version": 3
   },
   "file_extension": ".py",
   "mimetype": "text/x-python",
   "name": "python",
   "nbconvert_exporter": "python",
   "pygments_lexer": "ipython3",
   "version": "3.7.6"
  }
 },
 "nbformat": 4,
 "nbformat_minor": 4
}
