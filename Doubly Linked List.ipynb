{
 "cells": [
  {
   "cell_type": "code",
   "execution_count": 2,
   "metadata": {},
   "outputs": [],
   "source": [
    "class Node:\n",
    "    def __init__(self, val):\n",
    "        self.val = val\n",
    "        self.next = None\n",
    "        self.prev = None"
   ]
  },
  {
   "cell_type": "code",
   "execution_count": 3,
   "metadata": {},
   "outputs": [],
   "source": [
    "class DLinkedlist:\n",
    "    def __init__(self):\n",
    "        self.headval = None\n",
    "    def printv(self):\n",
    "        v = self.headval\n",
    "        while v is not None:\n",
    "            print(v.val)\n",
    "            v = v.next\n",
    "    \n",
    "    def insert(self, index, data):\n",
    "        new = Node(data)\n",
    "        last = self.headval\n",
    "        length = 0\n",
    "        if index<0:\n",
    "            return\n",
    "        if index==0:\n",
    "            new.next = self.headval\n",
    "            new.prev = None\n",
    "            self.headval = new\n",
    "            return\n",
    "        \n",
    "        while last.next!= None:\n",
    "            last = last.next\n",
    "            length += 1\n",
    "\n",
    "        if index>=length:\n",
    "            if self.headval == None:\n",
    "                self.headval = new\n",
    "                return\n",
    "            last2 = self.headval\n",
    "            while(last2.next!=None):\n",
    "                last2 = last2.next\n",
    "            last2.next = new\n",
    "            new.prev = last2\n",
    "            return\n",
    "        \n",
    "        if index<length:\n",
    "            last1 = self.headval\n",
    "            count = 0\n",
    "            while count!=index-1:\n",
    "                last1 = last1.next\n",
    "                count+=1\n",
    "            last1.next.prev = new\n",
    "            new.next = last1.next\n",
    "            last1.next = new\n",
    "            new.prev = last1\n",
    "        return\n",
    "    \n",
    "    def deletei(self, index):\n",
    "        if index<0:\n",
    "            return\n",
    "        if index==0:\n",
    "            first = self.headval.next\n",
    "            self.headval = first\n",
    "            first.prev = None\n",
    "            return\n",
    "        last = self.headval\n",
    "        length = 0\n",
    "        while last.next!= None:\n",
    "            last = last.next\n",
    "            length += 1\n",
    "        if index>=length:\n",
    "            last2 = last.prev\n",
    "            last2.next = None\n",
    "            return\n",
    "        if index<length:\n",
    "            last1 = self.headval\n",
    "            count = 0\n",
    "            while count!=index-1:\n",
    "                last1 = last1.next\n",
    "                count+=1\n",
    "            last1.next.next.prev = last1\n",
    "            last1.next = last1.next.next            \n",
    "        return\n"
   ]
  },
  {
   "cell_type": "code",
   "execution_count": 4,
   "metadata": {},
   "outputs": [],
   "source": [
    "a = DLinkedlist()"
   ]
  },
  {
   "cell_type": "code",
   "execution_count": 5,
   "metadata": {},
   "outputs": [],
   "source": [
    "a.printv()"
   ]
  },
  {
   "cell_type": "code",
   "execution_count": 6,
   "metadata": {},
   "outputs": [],
   "source": [
    "a.insert(0, 1)"
   ]
  },
  {
   "cell_type": "code",
   "execution_count": 7,
   "metadata": {},
   "outputs": [
    {
     "name": "stdout",
     "output_type": "stream",
     "text": [
      "1\n"
     ]
    }
   ],
   "source": [
    "a.printv()"
   ]
  },
  {
   "cell_type": "code",
   "execution_count": 8,
   "metadata": {},
   "outputs": [],
   "source": [
    "a.insert(2, 5)"
   ]
  },
  {
   "cell_type": "code",
   "execution_count": 9,
   "metadata": {},
   "outputs": [
    {
     "name": "stdout",
     "output_type": "stream",
     "text": [
      "1\n",
      "5\n"
     ]
    }
   ],
   "source": [
    "a.printv()"
   ]
  },
  {
   "cell_type": "code",
   "execution_count": 10,
   "metadata": {},
   "outputs": [],
   "source": [
    "a.insert(1, 10)"
   ]
  },
  {
   "cell_type": "code",
   "execution_count": 11,
   "metadata": {},
   "outputs": [
    {
     "name": "stdout",
     "output_type": "stream",
     "text": [
      "1\n",
      "5\n",
      "10\n"
     ]
    }
   ],
   "source": [
    "a.printv()"
   ]
  },
  {
   "cell_type": "code",
   "execution_count": 12,
   "metadata": {},
   "outputs": [],
   "source": [
    "a.insert(2, 4)"
   ]
  },
  {
   "cell_type": "code",
   "execution_count": 13,
   "metadata": {},
   "outputs": [
    {
     "name": "stdout",
     "output_type": "stream",
     "text": [
      "1\n",
      "5\n",
      "10\n",
      "4\n"
     ]
    }
   ],
   "source": [
    "a.printv()"
   ]
  },
  {
   "cell_type": "code",
   "execution_count": 14,
   "metadata": {},
   "outputs": [],
   "source": [
    "a.deletei(0)"
   ]
  },
  {
   "cell_type": "code",
   "execution_count": 15,
   "metadata": {},
   "outputs": [
    {
     "name": "stdout",
     "output_type": "stream",
     "text": [
      "5\n",
      "10\n",
      "4\n"
     ]
    }
   ],
   "source": [
    "a.printv()"
   ]
  },
  {
   "cell_type": "code",
   "execution_count": 16,
   "metadata": {},
   "outputs": [],
   "source": [
    "a.deletei(2)"
   ]
  },
  {
   "cell_type": "code",
   "execution_count": 17,
   "metadata": {},
   "outputs": [
    {
     "name": "stdout",
     "output_type": "stream",
     "text": [
      "5\n",
      "10\n"
     ]
    }
   ],
   "source": [
    "a.printv()"
   ]
  },
  {
   "cell_type": "code",
   "execution_count": null,
   "metadata": {},
   "outputs": [],
   "source": []
  },
  {
   "cell_type": "code",
   "execution_count": null,
   "metadata": {},
   "outputs": [],
   "source": []
  }
 ],
 "metadata": {
  "kernelspec": {
   "display_name": "Python 3",
   "language": "python",
   "name": "python3"
  },
  "language_info": {
   "codemirror_mode": {
    "name": "ipython",
    "version": 3
   },
   "file_extension": ".py",
   "mimetype": "text/x-python",
   "name": "python",
   "nbconvert_exporter": "python",
   "pygments_lexer": "ipython3",
   "version": "3.7.6"
  }
 },
 "nbformat": 4,
 "nbformat_minor": 4
}
