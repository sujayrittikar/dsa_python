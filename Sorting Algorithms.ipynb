{
 "cells": [
  {
   "cell_type": "markdown",
   "metadata": {},
   "source": [
    "# 1] Bubble Sort\n",
    "### Time Complexity : O(n^2)"
   ]
  },
  {
   "cell_type": "code",
   "execution_count": 8,
   "metadata": {},
   "outputs": [],
   "source": [
    "def bubble_sort(a):\n",
    "    n = len(a)\n",
    "    swapped = False\n",
    "    for i in range(len(a)):\n",
    "        swapped = False\n",
    "        for j in range(len(a)):\n",
    "            if j==len(a)-1:\n",
    "                break\n",
    "            if a[j]>a[j+1]:\n",
    "                a[j], a[j+1] = a[j+1], a[j]\n",
    "                swapped = True\n",
    "        if swapped==False:\n",
    "            break\n",
    "    \n",
    "    return a"
   ]
  },
  {
   "cell_type": "code",
   "execution_count": 10,
   "metadata": {},
   "outputs": [
    {
     "data": {
      "text/plain": [
       "[1,\n",
       " 10,\n",
       " 19.5,\n",
       " 79,\n",
       " 2244,\n",
       " 34566,\n",
       " 180106,\n",
       " 195976,\n",
       " 1859601,\n",
       " 3510000,\n",
       " 100887431.66732,\n",
       " 187643885.2115,\n",
       " 1890028576,\n",
       " 1924778186,\n",
       " 439192556960,\n",
       " 601315760789910,\n",
       " 1.819596727857787e+18]"
      ]
     },
     "execution_count": 10,
     "metadata": {},
     "output_type": "execute_result"
    }
   ],
   "source": [
    "bubble_sort([601315760789910, 3510000, 439192556960, 1890028576, 1924778186, 1859601, 1, 34566, 2244, 79, 195976, 10, 180106, 19.5, 100887431.66732, 187643885.2115, 1819596727857786992.1009])"
   ]
  },
  {
   "cell_type": "markdown",
   "metadata": {},
   "source": [
    "# 2] Selection Sort\n",
    "### Time Complexity: O(n^2)"
   ]
  },
  {
   "cell_type": "code",
   "execution_count": 13,
   "metadata": {},
   "outputs": [],
   "source": [
    "def selection_sort(a):\n",
    "    n = len(a)\n",
    "    \n",
    "    for i in range(len(a)):\n",
    "        init_index = i\n",
    "        \n",
    "        for j in range(i+1, len(a)):\n",
    "            if a[j]<a[init_index]:\n",
    "                init_index = j\n",
    "        a[i], a[init_index] = a[init_index], a[i]\n",
    "        \n",
    "    return a"
   ]
  },
  {
   "cell_type": "code",
   "execution_count": 14,
   "metadata": {},
   "outputs": [
    {
     "data": {
      "text/plain": [
       "[10,\n",
       " 32,\n",
       " 3345,\n",
       " 10024,\n",
       " 16661.27,\n",
       " 169040.1677,\n",
       " 1535352.1,\n",
       " 1051906011,\n",
       " 10005105060.891567,\n",
       " 1940051067789.1045,\n",
       " 18005578195196.2,\n",
       " 105199069062479]"
      ]
     },
     "execution_count": 14,
     "metadata": {},
     "output_type": "execute_result"
    }
   ],
   "source": [
    "selection_sort([10005105060.891567, 1940051067789.10456, 18005578195196.19991, 105199069062479, 10024, 32, 3345, 1051906011, 169040.1677, 1535352.1, 10, 16661.27])"
   ]
  },
  {
   "cell_type": "markdown",
   "metadata": {},
   "source": [
    "# 3] Insertion Sort\n",
    "### Time Complexity: O(n^2)"
   ]
  },
  {
   "cell_type": "code",
   "execution_count": 15,
   "metadata": {},
   "outputs": [],
   "source": [
    "def insertion_sort(a):\n",
    "    n = len(a)\n",
    "    \n",
    "    for i in range(1, n):\n",
    "        item = a[i]\n",
    "        j = i-1\n",
    "        while(j>=0 and a[j]>item):\n",
    "            a[j+1] = a[j]\n",
    "            j -= 1\n",
    "        a[j+1] = item\n",
    "    return a"
   ]
  },
  {
   "cell_type": "code",
   "execution_count": 16,
   "metadata": {},
   "outputs": [
    {
     "data": {
      "text/plain": [
       "[19,\n",
       " 1991,\n",
       " 18968692.91067,\n",
       " 295011441,\n",
       " 517816869161,\n",
       " 1915960961963063.0,\n",
       " 1915960961963063.0,\n",
       " 1.0101919513595996e+16,\n",
       " 11935522502882191,\n",
       " 1.5385185131535193e+41,\n",
       " 1.5931513555315568e+52]"
      ]
     },
     "execution_count": 16,
     "metadata": {},
     "output_type": "execute_result"
    }
   ],
   "source": [
    "insertion_sort([517816869161, 18968692.91067, 295011441, 11935522502882191, 15931513555315566661515111153468199153953915130951951.17135885, 153851851315351931515919051915901951091501.1199195, 1991, 19, 10101919513595996.619110, 1915960961963063.1109639355,1915960961963063.1109639356])"
   ]
  },
  {
   "cell_type": "markdown",
   "metadata": {},
   "source": [
    "# 4] Merge Sort\n",
    "### Time Complexity: O(nlogn)"
   ]
  },
  {
   "cell_type": "code",
   "execution_count": 20,
   "metadata": {},
   "outputs": [],
   "source": [
    "def merge(left, right):\n",
    "    x = []\n",
    "    l = len(left)\n",
    "    r = len(right)\n",
    "    li = ri = 0\n",
    "    for i in range(l+r):\n",
    "        if li<l and ri<r:\n",
    "            if left[li] <= right[ri]:\n",
    "                x.append(left[li])\n",
    "                li += 1\n",
    "            else:\n",
    "                x.append(right[ri])\n",
    "                ri += 1\n",
    "        elif li==l:\n",
    "            x.append(right[ri])\n",
    "            ri += 1\n",
    "        elif ri==r:\n",
    "            x.append(left[li])\n",
    "            li += 1\n",
    "    return x\n",
    "\n",
    "def merge_sort(a):\n",
    "    if len(a)<=1:\n",
    "        return a\n",
    "    mid = len(a)//2\n",
    "    \n",
    "    left = merge_sort(a[:mid])\n",
    "    right = merge_sort(a[mid:])\n",
    "    \n",
    "    return merge(left, right)"
   ]
  },
  {
   "cell_type": "code",
   "execution_count": 22,
   "metadata": {},
   "outputs": [
    {
     "data": {
      "text/plain": [
       "[10,\n",
       " 19,\n",
       " 32,\n",
       " 1991,\n",
       " 3345,\n",
       " 10024,\n",
       " 16661.27,\n",
       " 169040.1677,\n",
       " 1535352.1,\n",
       " 18968692.91067,\n",
       " 295011441,\n",
       " 1051906011,\n",
       " 10005105060.891567,\n",
       " 517816869161,\n",
       " 1940051067789.1045,\n",
       " 18005578195196.2,\n",
       " 105199069062479,\n",
       " 1915960961963063.0,\n",
       " 1915960961963063.0,\n",
       " 1.0101919513595996e+16,\n",
       " 11935522502882191,\n",
       " 1.5385185131535193e+41,\n",
       " 1.5931513555315568e+52]"
      ]
     },
     "execution_count": 22,
     "metadata": {},
     "output_type": "execute_result"
    }
   ],
   "source": [
    "merge_sort([10005105060.891567, 1940051067789.10456, 18005578195196.19991, 105199069062479, 10024, 32, 3345, 1051906011, 169040.1677, 1535352.1, 10, 16661.27, 517816869161, 18968692.91067, 295011441, 11935522502882191, 15931513555315566661515111153468199153953915130951951.17135885, 153851851315351931515919051915901951091501.1199195, 1991, 19, 10101919513595996.619110, 1915960961963063.1109639355,1915960961963063.1109639356])"
   ]
  },
  {
   "cell_type": "markdown",
   "metadata": {},
   "source": [
    "# 5] Quick Sort\n",
    "### Time Complexity: O(nlogn)"
   ]
  },
  {
   "cell_type": "code",
   "execution_count": 33,
   "metadata": {},
   "outputs": [],
   "source": [
    "def partition(nums, low, high):\n",
    "    pivot = nums[(low + high) // 2]\n",
    "    i = low - 1\n",
    "    j = high + 1\n",
    "    while True:\n",
    "        i += 1\n",
    "        while nums[i] < pivot:\n",
    "            i += 1\n",
    "\n",
    "        j -= 1\n",
    "        while nums[j] > pivot:\n",
    "            j -= 1\n",
    "\n",
    "        if i >= j:\n",
    "            return j\n",
    "\n",
    "        nums[i], nums[j] = nums[j], nums[i]\n",
    "\n",
    "def quicksort(a):\n",
    "    def _quicksort(a, l, h):\n",
    "        if l<h:\n",
    "            j = partition(a, l, h)\n",
    "            _quicksort(a, l, j)\n",
    "            _quicksort(a, j+1, h)\n",
    "    _quicksort(a, 0, len(a)-1)\n",
    "    return a"
   ]
  },
  {
   "cell_type": "code",
   "execution_count": 34,
   "metadata": {},
   "outputs": [
    {
     "data": {
      "text/plain": [
       "[10,\n",
       " 19,\n",
       " 32,\n",
       " 1991,\n",
       " 3345,\n",
       " 10024,\n",
       " 16661.27,\n",
       " 169040.1677,\n",
       " 1535352.1,\n",
       " 18968692.91067,\n",
       " 295011441,\n",
       " 1051906011,\n",
       " 10005105060.891567,\n",
       " 517816869161,\n",
       " 1940051067789.1045,\n",
       " 18005578195196.2,\n",
       " 105199069062479,\n",
       " 1915960961963063.0,\n",
       " 1915960961963063.0,\n",
       " 1.0101919513595996e+16,\n",
       " 11935522502882191,\n",
       " 1.5385185131535193e+41,\n",
       " 1.5931513555315568e+52]"
      ]
     },
     "execution_count": 34,
     "metadata": {},
     "output_type": "execute_result"
    }
   ],
   "source": [
    "quicksort([10005105060.891567, 1940051067789.10456, 18005578195196.19991, 105199069062479, 10024, 32, 3345, 1051906011, 169040.1677, 1535352.1, 10, 16661.27, 517816869161, 18968692.91067, 295011441, 11935522502882191, 15931513555315566661515111153468199153953915130951951.17135885, 153851851315351931515919051915901951091501.1199195, 1991, 19, 10101919513595996.619110, 1915960961963063.1109639355,1915960961963063.1109639356])"
   ]
  },
  {
   "cell_type": "code",
   "execution_count": null,
   "metadata": {},
   "outputs": [],
   "source": []
  }
 ],
 "metadata": {
  "kernelspec": {
   "display_name": "Python 3",
   "language": "python",
   "name": "python3"
  },
  "language_info": {
   "codemirror_mode": {
    "name": "ipython",
    "version": 3
   },
   "file_extension": ".py",
   "mimetype": "text/x-python",
   "name": "python",
   "nbconvert_exporter": "python",
   "pygments_lexer": "ipython3",
   "version": "3.7.6"
  }
 },
 "nbformat": 4,
 "nbformat_minor": 4
}
