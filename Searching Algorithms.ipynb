{
 "cells": [
  {
   "cell_type": "markdown",
   "metadata": {},
   "source": [
    "# 1] Linear Search\n",
    "### Time Complexity: O(n)"
   ]
  },
  {
   "cell_type": "code",
   "execution_count": 2,
   "metadata": {},
   "outputs": [],
   "source": [
    "def linear_search(a, item):\n",
    "    for i in range(len(a)):\n",
    "        if a[i]==item:\n",
    "            return i\n",
    "    return -1"
   ]
  },
  {
   "cell_type": "code",
   "execution_count": 3,
   "metadata": {},
   "outputs": [
    {
     "data": {
      "text/plain": [
       "2"
      ]
     },
     "execution_count": 3,
     "metadata": {},
     "output_type": "execute_result"
    }
   ],
   "source": [
    "linear_search([9, 19, 5, 6, 17], 5)"
   ]
  },
  {
   "cell_type": "code",
   "execution_count": 4,
   "metadata": {},
   "outputs": [
    {
     "data": {
      "text/plain": [
       "-1"
      ]
     },
     "execution_count": 4,
     "metadata": {},
     "output_type": "execute_result"
    }
   ],
   "source": [
    "linear_search([9, 19, 5, 6, 17], 10)"
   ]
  },
  {
   "cell_type": "markdown",
   "metadata": {},
   "source": [
    "# 2] Binary Search\n",
    "### Time Complexity: O(logn)"
   ]
  },
  {
   "cell_type": "code",
   "execution_count": 5,
   "metadata": {},
   "outputs": [],
   "source": [
    "def binary_search(a, item):\n",
    "    a = sorted(a)\n",
    "    init = 0\n",
    "    last = len(a)-1\n",
    "    i = -1\n",
    "    while (init <= last) and (i == -1):\n",
    "        mid = (init+last)//2\n",
    "        if a[mid] == item:\n",
    "            i = mid\n",
    "        else:\n",
    "            if item<a[mid]:\n",
    "                last = mid -1\n",
    "            else:\n",
    "                init = mid +1\n",
    "    return i"
   ]
  },
  {
   "cell_type": "code",
   "execution_count": 6,
   "metadata": {},
   "outputs": [
    {
     "data": {
      "text/plain": [
       "0"
      ]
     },
     "execution_count": 6,
     "metadata": {},
     "output_type": "execute_result"
    }
   ],
   "source": [
    "binary_search([3, 2, 4, 5, 6, 8], 2)"
   ]
  },
  {
   "cell_type": "markdown",
   "metadata": {},
   "source": [
    "# 3] Jump Search"
   ]
  },
  {
   "cell_type": "code",
   "execution_count": 7,
   "metadata": {},
   "outputs": [],
   "source": [
    "def jump_search(a, item):\n",
    "    a = sorted(a)\n",
    "    n = len(a)\n",
    "    jump = int(n**0.5)\n",
    "    left, right = 0, 0\n",
    "    while left<=n and a[left]<=item:\n",
    "        right = min(n-1, left+jump)\n",
    "        if a[left]<=item and a[right]>=item:\n",
    "            break\n",
    "        left += jump\n",
    "    if left >= n and a[left]>item:\n",
    "        return \"Not Present: -1!\"\n",
    "    right = min(right, n-1)\n",
    "    i = left\n",
    "    while(i<=right and a[i]<=item):\n",
    "        if a[i]==item:\n",
    "            return \"Present in sorted list at index: \"+ str(i)\n",
    "        i += 1\n",
    "    return \"Not Present: -1!\""
   ]
  },
  {
   "cell_type": "code",
   "execution_count": 8,
   "metadata": {},
   "outputs": [
    {
     "data": {
      "text/plain": [
       "'Not Present: -1!'"
      ]
     },
     "execution_count": 8,
     "metadata": {},
     "output_type": "execute_result"
    }
   ],
   "source": [
    "jump_search([1012098241, 2124214.1912902, 192418421, 42922, 14662149, 112244019218, 11020, 10, 12484218], 11)"
   ]
  },
  {
   "cell_type": "markdown",
   "metadata": {},
   "source": [
    "# 4] Interpolation Search"
   ]
  },
  {
   "cell_type": "code",
   "execution_count": 9,
   "metadata": {},
   "outputs": [],
   "source": [
    "def interpolation_search(a, item):\n",
    "    a = sorted(a)\n",
    "    low = 0\n",
    "    high = len(a) - 1\n",
    "    \n",
    "    while low<=high and item>=a[low] and item<=a[high]:\n",
    "        index = low + int((item - a[low])*(high-low)/(a[high]-a[low]))\n",
    "        if a[index]==item:\n",
    "            return \"The item is available in the sorted list at index: \" + str(index)\n",
    "        if a[index]<item:\n",
    "            low = index+1\n",
    "        else:\n",
    "            high = index-1\n",
    "    return \"The item is not present in the list: -1!\""
   ]
  },
  {
   "cell_type": "code",
   "execution_count": 10,
   "metadata": {},
   "outputs": [
    {
     "data": {
      "text/plain": [
       "'The item is available in the sorted list at index: 4'"
      ]
     },
     "execution_count": 10,
     "metadata": {},
     "output_type": "execute_result"
    }
   ],
   "source": [
    "interpolation_search([1012098241, 2124214.1912902, 192418421, 42922, 14662149, 112244019218, 11020, 10, 12484218], 12484218)"
   ]
  },
  {
   "cell_type": "code",
   "execution_count": null,
   "metadata": {},
   "outputs": [],
   "source": []
  }
 ],
 "metadata": {
  "kernelspec": {
   "display_name": "Python 3",
   "language": "python",
   "name": "python3"
  },
  "language_info": {
   "codemirror_mode": {
    "name": "ipython",
    "version": 3
   },
   "file_extension": ".py",
   "mimetype": "text/x-python",
   "name": "python",
   "nbconvert_exporter": "python",
   "pygments_lexer": "ipython3",
   "version": "3.7.6"
  }
 },
 "nbformat": 4,
 "nbformat_minor": 4
}
